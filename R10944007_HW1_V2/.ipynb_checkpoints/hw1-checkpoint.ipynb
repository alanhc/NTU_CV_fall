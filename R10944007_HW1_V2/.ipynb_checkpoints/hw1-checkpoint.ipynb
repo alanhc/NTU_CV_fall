{
 "cells": [
  {
   "cell_type": "markdown",
   "id": "7eae02c9",
   "metadata": {},
   "source": [
    "# Computer Vision I (922 U0610) - Homework I\n",
    "Author: alanhc\n",
    "\n",
    "ID: r10944007\n",
    "\n",
    "Date: 9/30"
   ]
  },
  {
   "cell_type": "markdown",
   "id": "e3cc0df1",
   "metadata": {},
   "source": [
    "## README\n",
    "0. create env: `conda env create -f environment.yml`\n",
    "1. enter env: `conda activate ntu-cv`\n",
    "2. run jupyter `jupyter notebook`"
   ]
  },
  {
   "cell_type": "markdown",
   "id": "0f72f05d",
   "metadata": {},
   "source": [
    "## Part1. Write a program to do the following requirement.\n",
    "- (a) upside-down lena.bmp\n",
    "- (b) right-side-left lena.bmp\n",
    "- (c) diagonally flip lena.bmp"
   ]
  },
  {
   "cell_type": "code",
   "execution_count": 1,
   "id": "1bc9e685",
   "metadata": {
    "scrolled": true
   },
   "outputs": [
    {
     "ename": "ModuleNotFoundError",
     "evalue": "No module named 'PIL'",
     "output_type": "error",
     "traceback": [
      "\u001b[0;31m---------------------------------------------------------------------------\u001b[0m",
      "\u001b[0;31mModuleNotFoundError\u001b[0m                       Traceback (most recent call last)",
      "\u001b[0;32m/var/folders/d6/50flc0c547nf8vzbg5jvh2lm0000gn/T/ipykernel_2443/3604305919.py\u001b[0m in \u001b[0;36m<module>\u001b[0;34m\u001b[0m\n\u001b[0;32m----> 1\u001b[0;31m \u001b[0;32mfrom\u001b[0m \u001b[0mPIL\u001b[0m \u001b[0;32mimport\u001b[0m \u001b[0mImage\u001b[0m\u001b[0;34m\u001b[0m\u001b[0;34m\u001b[0m\u001b[0m\n\u001b[0m\u001b[1;32m      2\u001b[0m \u001b[0;32mimport\u001b[0m \u001b[0mnumpy\u001b[0m \u001b[0;32mas\u001b[0m \u001b[0mnp\u001b[0m\u001b[0;34m\u001b[0m\u001b[0;34m\u001b[0m\u001b[0m\n\u001b[1;32m      3\u001b[0m \u001b[0;34m\u001b[0m\u001b[0m\n\u001b[1;32m      4\u001b[0m \u001b[0;31m# Todo: 讀檔，確定影像大小\u001b[0m\u001b[0;34m\u001b[0m\u001b[0;34m\u001b[0m\u001b[0;34m\u001b[0m\u001b[0m\n\u001b[1;32m      5\u001b[0m \u001b[0mimg\u001b[0m \u001b[0;34m=\u001b[0m \u001b[0mImage\u001b[0m\u001b[0;34m.\u001b[0m\u001b[0mopen\u001b[0m\u001b[0;34m(\u001b[0m\u001b[0;34m\"input/lena.bmp\"\u001b[0m\u001b[0;34m)\u001b[0m\u001b[0;34m\u001b[0m\u001b[0;34m\u001b[0m\u001b[0m\n",
      "\u001b[0;31mModuleNotFoundError\u001b[0m: No module named 'PIL'"
     ]
    }
   ],
   "source": [
    "from PIL import Image\n",
    "import numpy as np\n",
    "\n",
    "# Todo: 讀檔，確定影像大小\n",
    "img = Image.open(\"input/lena.bmp\")\n",
    "img = np.array(img)\n",
    "print(\"image shape:\", img.shape)\n",
    "show = Image.fromarray(img)\n",
    "show"
   ]
  },
  {
   "cell_type": "code",
   "execution_count": null,
   "id": "6c8c99dd",
   "metadata": {},
   "outputs": [],
   "source": [
    "######## My solutions ########\n",
    "######## alanhc 2021 ########\n",
    "\n",
    "# Functions\n",
    "### flipV: 上下翻轉\n",
    "### flipH: 左右翻轉\n",
    "### flip_diagonally: 左右翻轉\n",
    "# explanation\n",
    "### ans array->答案陣列\n",
    "\n",
    "# Todo: 把最下面的row翻上去\n",
    "# Algorithm:\n",
    "### 1. 建立ans array\n",
    "### 2. 建立把最下面(h-i-1)的row翻上去第i個row\n",
    "def flip_V(img):\n",
    "    h, w = img.shape\n",
    "    ans = np.zeros((h,w), np.uint8)  # Algorithm step 1\n",
    "    for i in range(h):\n",
    "        ans[i,:]=img[h-i-1,:] # Algorithm step 2\n",
    "    return ans\n",
    "\n",
    "# Todo: 把最右邊的col翻到最左邊\n",
    "# Algorithm:\n",
    "### 1. 建立ans array\n",
    "### 2. 建立把最右邊面(h-i-1)個翻上去第i個row\n",
    "def flip_H(img):\n",
    "    h, w = img.shape\n",
    "    ans = np.zeros((h,w), np.uint8) # Algorithm step 1\n",
    "    for i in range(w):\n",
    "        ans[:,i]=img[:,w-i-1]\n",
    "    return ans\n",
    "\n",
    "# Todo: 把pixel按照對角線翻轉\n",
    "# Algorithm:\n",
    "### 1. 求Matrix的 transpose\n",
    "def flip_diagonally(ans):\n",
    "    return ans.T # Algorithm step 1\n"
   ]
  },
  {
   "cell_type": "code",
   "execution_count": null,
   "id": "b8092b5a",
   "metadata": {},
   "outputs": [],
   "source": [
    "### 參考 My solutions ####\n",
    "### 一次檢視 ###\n",
    "import matplotlib.pyplot as plt\n",
    "process_Fs = [flip_V, flip_H, flip_diagonally]\n",
    "names = [\"1_a_lena_upside_down\", \"1_b_lena_right_side_left\", \"1_c_lena_diagonally_flip\"]\n",
    "plt.figure(figsize=(16,16))\n",
    "for i in range(len(process_Fs)):\n",
    "    p = plt.subplot(1, len(process_Fs), i+1)\n",
    "    plt.imshow( process_Fs[i](img) , cmap=\"gray\")\n",
    "    plt.text(0.25, -0.1, names[i],  transform=p.transAxes)"
   ]
  },
  {
   "cell_type": "markdown",
   "id": "41ec8940",
   "metadata": {},
   "source": [
    "## Part2. Write a program or use software to do the following requirement.\n",
    "- (a) rotate lena.bmp 45 degrees clockwise (原本Part2-(d))\n",
    "- (b) shrink lena.bmp in half (原本Part2-(e))\n",
    "- (c) binarize lena.bmp at 128 to get a binary image (原本Part2-(f))"
   ]
  },
  {
   "cell_type": "markdown",
   "id": "cb360944",
   "metadata": {},
   "source": [
    "### Software usage: [GIMP](https://www.gimp.org)\n",
    "操作步驟：\n",
    "- 2.a 選擇  Layer>Transform>Artibrary Rotation...> set Angle to 45\n",
    "- 2.b 選擇  Tools>Transform tools>Scale.> set Width to 256, Height to 256\n",
    "- 2.c 選擇  Colors>Thresholds> set value to 128"
   ]
  },
  {
   "cell_type": "code",
   "execution_count": null,
   "id": "ada8adba",
   "metadata": {
    "scrolled": true
   },
   "outputs": [],
   "source": [
    "### 參考 My solutions ####\n",
    "### 一次檢視 ###\n",
    "import matplotlib.pyplot as plt\n",
    "filenames = [\"2_a_lena_clockwise_45\", \"2_b_lena_shrink_half\", \"2_c_lena_binarize_128\"]\n",
    "plt.figure(figsize=(16,16))\n",
    "for i in range(len(filenames)):\n",
    "    p = plt.subplot(1, len(filenames), i+1)\n",
    "    plt.imshow( Image.open(\"output/\"+filenames[i]+\".PNG\") , cmap=\"gray\")\n",
    "    plt.text(0.25, -0.1, filenames[i],  transform=p.transAxes)"
   ]
  },
  {
   "cell_type": "markdown",
   "id": "2c57868f",
   "metadata": {},
   "source": [
    "## 補充\n",
    "另一種上下顛倒實作\n",
    "把所有的pixel反過來，參考 Reference > 2. [stackoverflow]-how-to-flip-image-with-opencv-and-python-without-cv2-flip\n",
    "```python\n",
    "img_upside_down = img[::-1] \n",
    "```"
   ]
  },
  {
   "cell_type": "markdown",
   "id": "bdac6a08",
   "metadata": {},
   "source": [
    "## Reference\n",
    "\n",
    "1. https://www.geeksforgeeks.org/image-processing-in-python-scaling-rotating-shifting-and-edge-detection/\n",
    "2. https://stackoverflow.com/questions/51342774/how-to-flip-image-with-opencv-and-python-without-cv2-flip\n",
    "3. https://docs.gimp.org/2.10/en/gimp-layer-rotate-90.html\n",
    "4. https://docs.gimp.org/2.2/en/gimp-tool-crop.html\n",
    "5. https://guides.lib.umich.edu/c.php?g=282942&p=1888162\n",
    "6. https://docs.gimp.org/2.10/en/gimp-tool-threshold.html\n",
    "7. https://docs.gimp.org/2.10/en/gimp-tool-threshold.html\n",
    "\n",
    "\n",
    "\n"
   ]
  },
  {
   "cell_type": "code",
   "execution_count": null,
   "id": "a240e745",
   "metadata": {},
   "outputs": [],
   "source": [
    "# 存檔用\n",
    "img_diagonally= Image.fromarray( flip_diagonally(img) )\n",
    "img_h = Image.fromarray( flip_H(img) )\n",
    "img_v = Image.fromarray( flip_V(img) )\n",
    "img_diagonally.save(\"output/lena_diagonally_flip.bmp\")\n",
    "img_h.save(\"output/lena_right_side_left.bmp\")\n",
    "img_v.save(\"output/lena_upside_down.bmp\")"
   ]
  },
  {
   "cell_type": "code",
   "execution_count": null,
   "id": "7ae93e9b",
   "metadata": {},
   "outputs": [],
   "source": [
    "### 參考 My solutions ####\n",
    "### 把前面 “#” 拿掉 可直接執行 ###\n",
    "### 檢視原始圖檔請到 output/ ###\n",
    "\n",
    "#show = Image.fromarray(img)\n",
    "show = Image.fromarray(flip_V(img))  # 1-a\n",
    "#show = Image.fromarray(flip_H(img)) # 1-b\n",
    "#show = Image.fromarray(flip_diagonally(img)) # 1-c\n",
    "show"
   ]
  }
 ],
 "metadata": {
  "kernelspec": {
   "display_name": "Python 3 (ipykernel)",
   "language": "python",
   "name": "python3"
  },
  "language_info": {
   "codemirror_mode": {
    "name": "ipython",
    "version": 3
   },
   "file_extension": ".py",
   "mimetype": "text/x-python",
   "name": "python",
   "nbconvert_exporter": "python",
   "pygments_lexer": "ipython3",
   "version": "3.8.11"
  }
 },
 "nbformat": 4,
 "nbformat_minor": 5
}
